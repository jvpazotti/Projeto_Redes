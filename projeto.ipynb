{
 "cells": [
  {
   "cell_type": "markdown",
   "id": "43f119a4",
   "metadata": {},
   "source": [
    "### PROJETO 1 REDES SOCIAIS\n",
    "\n",
    "**GRUPO D:** \n",
    "- ESTHER DAGIR\n",
    "- FELIPE LEMOS\n",
    "- JV PAZOTTI\n",
    "\n",
    "**DESCRIÇÃO DATASET CORD19**\n",
    "\n",
    "Artigos acadêmicos relacionados ao COVID-19 e suas variantes que integram o dataset CORD-19. Coleção mais extensa (+134.000 artigos) de pesquisa sobre coronavírus legível por máquina disponível para mineração de dados até o momento, solicitada pelo governo americano em conjunto com entidades de pesquisa sobre o vírus e suas variantes. "
   ]
  },
  {
   "cell_type": "markdown",
   "id": "7d22c698",
   "metadata": {},
   "source": [
    "### Importando as Bibliotecas\n"
   ]
  },
  {
   "cell_type": "code",
   "execution_count": 1,
   "id": "6781c949",
   "metadata": {},
   "outputs": [
    {
     "data": {
      "text/html": [
       "\n",
       "    <script src=\"/files/netpixi.min.js\"></script>\n"
      ],
      "text/plain": [
       "<IPython.core.display.HTML object>"
      ]
     },
     "metadata": {},
     "output_type": "display_data"
    },
    {
     "name": "stderr",
     "output_type": "stream",
     "text": [
      "<frozen importlib._bootstrap>:914: ImportWarning: VendorImporter.find_spec() not found; falling back to find_module()\n"
     ]
    }
   ],
   "source": [
    "import pandas as pd\n",
    "import seaborn as sns\n",
    "import netpixi\n",
    "from netpixi.integration.gt import *\n",
    "from regression.integration.gt import *"
   ]
  },
  {
   "cell_type": "markdown",
   "id": "45eafa8d",
   "metadata": {},
   "source": [
    "### Dataset"
   ]
  },
  {
   "cell_type": "code",
   "execution_count": 2,
   "id": "5945126c",
   "metadata": {},
   "outputs": [
    {
     "name": "stderr",
     "output_type": "stream",
     "text": [
      "/tmp/ipykernel_135/304384523.py:1: DtypeWarning: Columns (1,4,5,6,13,14,15,16) have mixed types. Specify dtype option on import or set low_memory=False.\n",
      "  data = pd.read_csv(\"metadata.csv\")\n"
     ]
    }
   ],
   "source": [
    "data = pd.read_csv(\"metadata.csv\")"
   ]
  },
  {
   "cell_type": "code",
   "execution_count": 3,
   "id": "2b418b68",
   "metadata": {},
   "outputs": [
    {
     "data": {
      "text/plain": [
       "54994"
      ]
     },
     "execution_count": 3,
     "metadata": {},
     "output_type": "execute_result"
    }
   ],
   "source": [
    "unique_journals = data['journal'].unique().tolist()\n",
    "len(unique_journals)"
   ]
  },
  {
   "cell_type": "code",
   "execution_count": 4,
   "id": "34309be5",
   "metadata": {},
   "outputs": [],
   "source": [
    "unique_df = data.drop_duplicates(subset=['journal'])"
   ]
  },
  {
   "cell_type": "code",
   "execution_count": 5,
   "id": "5a44c715",
   "metadata": {},
   "outputs": [
    {
     "data": {
      "text/plain": [
       "(54994, 19)"
      ]
     },
     "execution_count": 5,
     "metadata": {},
     "output_type": "execute_result"
    }
   ],
   "source": [
    "data=unique_df\n",
    "unique_df.shape"
   ]
  },
  {
   "cell_type": "code",
   "execution_count": 6,
   "id": "04eab5d6",
   "metadata": {},
   "outputs": [
    {
     "name": "stdout",
     "output_type": "stream",
     "text": [
      "<class 'pandas.core.frame.DataFrame'>\n",
      "Int64Index: 54994 entries, 0 to 1056494\n",
      "Data columns (total 19 columns):\n",
      " #   Column            Non-Null Count  Dtype  \n",
      "---  ------            --------------  -----  \n",
      " 0   cord_uid          54994 non-null  object \n",
      " 1   sha               10908 non-null  object \n",
      " 2   source_x          54994 non-null  object \n",
      " 3   title             54971 non-null  object \n",
      " 4   doi               33869 non-null  object \n",
      " 5   pmcid             12731 non-null  object \n",
      " 6   pubmed_id         13891 non-null  object \n",
      " 7   license           54994 non-null  object \n",
      " 8   abstract          44920 non-null  object \n",
      " 9   publish_time      54966 non-null  object \n",
      " 10  authors           53561 non-null  object \n",
      " 11  journal           54993 non-null  object \n",
      " 12  mag_id            0 non-null      float64\n",
      " 13  who_covidence_id  35174 non-null  object \n",
      " 14  arxiv_id          47 non-null     object \n",
      " 15  pdf_json_files    10908 non-null  object \n",
      " 16  pmc_json_files    9110 non-null   object \n",
      " 17  url               34758 non-null  object \n",
      " 18  s2_id             45373 non-null  float64\n",
      "dtypes: float64(2), object(17)\n",
      "memory usage: 8.4+ MB\n"
     ]
    }
   ],
   "source": [
    "data.info()"
   ]
  },
  {
   "cell_type": "code",
   "execution_count": null,
   "id": "23ed52fe",
   "metadata": {},
   "outputs": [],
   "source": []
  },
  {
   "cell_type": "code",
   "execution_count": 7,
   "id": "6e0b124c",
   "metadata": {},
   "outputs": [],
   "source": [
    "data=data.copy().drop(columns=['pdf_json_files','pmc_json_files','arxiv_id','pmcid','mag_id','s2_id'])"
   ]
  },
  {
   "cell_type": "code",
   "execution_count": 8,
   "id": "cf48021d",
   "metadata": {},
   "outputs": [],
   "source": [
    "data['authors'] = data['authors'].astype(str)"
   ]
  },
  {
   "cell_type": "markdown",
   "id": "e218b216",
   "metadata": {},
   "source": [
    "### Construindo a rede de coautoria"
   ]
  },
  {
   "cell_type": "code",
   "execution_count": 9,
   "id": "bccca339",
   "metadata": {},
   "outputs": [],
   "source": [
    "g = Graph(directed=False) # não dirigido"
   ]
  },
  {
   "cell_type": "code",
   "execution_count": 10,
   "id": "c5bc138a",
   "metadata": {},
   "outputs": [],
   "source": [
    "collabs = {}\n",
    "\n",
    "# percorre todos os autores no dataset\n",
    "for authors in data['authors']:\n",
    "    # divide os autores em uma lista\n",
    "    authors_list = authors.split('; ')\n",
    "    # percorre todos os pares de autores na lista\n",
    "    for i in range(len(authors_list)):\n",
    "        for j in range(i+1, len(authors_list)):\n",
    "            # ordena os nomes dos autores em ordem alfabética para evitar duplicatas\n",
    "            pair = tuple(sorted([authors_list[i], authors_list[j]]))\n",
    "            # incrementa o contador de co-autorias para esse par de autores\n",
    "            collabs[pair] = collabs.get(pair, 0) + 1    \n",
    "            \n",
    "co_authors = [] #todos os influentes\n",
    "\n",
    "# seleciona os autores que fizeram pelo menos 2 co-autorias (threshold)\n",
    "for pair, count in collabs.items():\n",
    "    if count >= 2: \n",
    "        # adiciona os autores da co-autoria à lista de autores colaboradores influentes\n",
    "        co_authors.extend(pair)\n",
    "        \n",
    "unique_authors = set(co_authors)"
   ]
  },
  {
   "cell_type": "code",
   "execution_count": 30,
   "id": "e36651f9",
   "metadata": {},
   "outputs": [
    {
     "data": {
      "text/plain": [
       "1.023443987867939"
      ]
     },
     "execution_count": 30,
     "metadata": {},
     "output_type": "execute_result"
    }
   ],
   "source": [
    "import numpy as np\n",
    "np.mean(list(collabs.values()))"
   ]
  },
  {
   "cell_type": "code",
   "execution_count": 11,
   "id": "906e564c",
   "metadata": {},
   "outputs": [],
   "source": [
    "for author in unique_authors:\n",
    "    g.add_vertex(author) \n",
    "    \n",
    "for pair, count in collabs.items():\n",
    "    try:\n",
    "        if count >= 2 and pair[0] in unique_authors and pair[1] in unique_authors:\n",
    "            if pair[0]!= pair[1]:\n",
    "                g.add_edge(pair[0], pair[1])\n",
    "    except ValueError as e:\n",
    "        print(\"Erro ao adicionar a aresta {}: {}\".format(pair, e))\n"
   ]
  },
  {
   "cell_type": "code",
   "execution_count": 12,
   "id": "e6c18818",
   "metadata": {},
   "outputs": [],
   "source": [
    "cord19 = gt_data(g)"
   ]
  },
  {
   "cell_type": "code",
   "execution_count": 13,
   "id": "f3e63ea8",
   "metadata": {},
   "outputs": [
    {
     "name": "stdout",
     "output_type": "stream",
     "text": [
      "Número de vértices de g: 13628\n",
      "Número de arestas de g: 89663\n",
      "Máximo possível de arestas de g: 92854378\n",
      "Densidade de g: 0.0009656302904748336\n"
     ]
    }
   ],
   "source": [
    "n = g.num_vertices()\n",
    "m =  g.num_edges()\n",
    "max_edges = n * (n - 1) if g.is_directed() else n * (n - 1) // 2\n",
    "d = m / max_edges\n",
    "\n",
    "print('Número de vértices de g:', n)\n",
    "print('Número de arestas de g:', m)\n",
    "print('Máximo possível de arestas de g:', max_edges)\n",
    "print('Densidade de g:', d)"
   ]
  },
  {
   "cell_type": "code",
   "execution_count": 14,
   "id": "90c287ba",
   "metadata": {},
   "outputs": [
    {
     "data": {
      "text/html": [
       "<div>\n",
       "<style scoped>\n",
       "    .dataframe tbody tr th:only-of-type {\n",
       "        vertical-align: middle;\n",
       "    }\n",
       "\n",
       "    .dataframe tbody tr th {\n",
       "        vertical-align: top;\n",
       "    }\n",
       "\n",
       "    .dataframe thead th {\n",
       "        text-align: right;\n",
       "    }\n",
       "</style>\n",
       "<table border=\"1\" class=\"dataframe\">\n",
       "  <thead>\n",
       "    <tr style=\"text-align: right;\">\n",
       "      <th></th>\n",
       "      <th>in_degree</th>\n",
       "      <th>out_degree</th>\n",
       "      <th>degree</th>\n",
       "    </tr>\n",
       "    <tr>\n",
       "      <th>id</th>\n",
       "      <th></th>\n",
       "      <th></th>\n",
       "      <th></th>\n",
       "    </tr>\n",
       "  </thead>\n",
       "  <tbody>\n",
       "    <tr>\n",
       "      <th>Odagiri, Takato</th>\n",
       "      <td>0</td>\n",
       "      <td>1</td>\n",
       "      <td>1</td>\n",
       "    </tr>\n",
       "    <tr>\n",
       "      <th>Jain, Rahul</th>\n",
       "      <td>0</td>\n",
       "      <td>7</td>\n",
       "      <td>7</td>\n",
       "    </tr>\n",
       "    <tr>\n",
       "      <th>Wang, Chenjiao</th>\n",
       "      <td>0</td>\n",
       "      <td>9</td>\n",
       "      <td>9</td>\n",
       "    </tr>\n",
       "    <tr>\n",
       "      <th>Taylor, Robert</th>\n",
       "      <td>0</td>\n",
       "      <td>2</td>\n",
       "      <td>2</td>\n",
       "    </tr>\n",
       "    <tr>\n",
       "      <th>Reddy, Ugan</th>\n",
       "      <td>0</td>\n",
       "      <td>8</td>\n",
       "      <td>8</td>\n",
       "    </tr>\n",
       "    <tr>\n",
       "      <th>...</th>\n",
       "      <td>...</td>\n",
       "      <td>...</td>\n",
       "      <td>...</td>\n",
       "    </tr>\n",
       "    <tr>\n",
       "      <th>Alesi, Viola</th>\n",
       "      <td>0</td>\n",
       "      <td>15</td>\n",
       "      <td>15</td>\n",
       "    </tr>\n",
       "    <tr>\n",
       "      <th>Yu, Kaihuan</th>\n",
       "      <td>0</td>\n",
       "      <td>1</td>\n",
       "      <td>1</td>\n",
       "    </tr>\n",
       "    <tr>\n",
       "      <th>Wedervang, K</th>\n",
       "      <td>0</td>\n",
       "      <td>16</td>\n",
       "      <td>16</td>\n",
       "    </tr>\n",
       "    <tr>\n",
       "      <th>Hime, George W</th>\n",
       "      <td>0</td>\n",
       "      <td>4</td>\n",
       "      <td>4</td>\n",
       "    </tr>\n",
       "    <tr>\n",
       "      <th>Tripathi, M</th>\n",
       "      <td>0</td>\n",
       "      <td>23</td>\n",
       "      <td>23</td>\n",
       "    </tr>\n",
       "  </tbody>\n",
       "</table>\n",
       "<p>13628 rows × 3 columns</p>\n",
       "</div>"
      ],
      "text/plain": [
       "                 in_degree  out_degree  degree\n",
       "id                                            \n",
       "Odagiri, Takato          0           1       1\n",
       "Jain, Rahul              0           7       7\n",
       "Wang, Chenjiao           0           9       9\n",
       "Taylor, Robert           0           2       2\n",
       "Reddy, Ugan              0           8       8\n",
       "...                    ...         ...     ...\n",
       "Alesi, Viola             0          15      15\n",
       "Yu, Kaihuan              0           1       1\n",
       "Wedervang, K             0          16      16\n",
       "Hime, George W           0           4       4\n",
       "Tripathi, M              0          23      23\n",
       "\n",
       "[13628 rows x 3 columns]"
      ]
     },
     "execution_count": 14,
     "metadata": {},
     "output_type": "execute_result"
    }
   ],
   "source": [
    "in_degrees = [] \n",
    "for v in g.all_vertices():\n",
    "    in_degrees.append(v.in_degree())\n",
    "\n",
    "out_degrees = []\n",
    "for v in g.all_vertices():\n",
    "    out_degrees.append(v.out_degree())\n",
    "\n",
    "degrees = []\n",
    "for v in g.all_vertices():\n",
    "    degrees.append(v.total_degree())\n",
    "    \n",
    "cord19['in_degree'] = in_degrees\n",
    "cord19['out_degree'] = out_degrees\n",
    "cord19['degree'] = degrees\n",
    "cord19"
   ]
  },
  {
   "cell_type": "code",
   "execution_count": 15,
   "id": "31a52aee",
   "metadata": {},
   "outputs": [],
   "source": [
    "cord19.to_csv('cord19.csv')"
   ]
  },
  {
   "cell_type": "code",
   "execution_count": 24,
   "id": "d9225bd1",
   "metadata": {},
   "outputs": [
    {
     "data": {
      "text/plain": [
       "count    13628.000000\n",
       "mean        13.158644\n",
       "std         95.182876\n",
       "min          1.000000\n",
       "25%          3.000000\n",
       "50%          6.000000\n",
       "75%         14.000000\n",
       "max       2320.000000\n",
       "Name: degree, dtype: float64"
      ]
     },
     "execution_count": 24,
     "metadata": {},
     "output_type": "execute_result"
    },
    {
     "data": {
      "image/png": "[encoded data removed]",
      "text/plain": [
       "<Figure size 640x480 with 1 Axes>"
      ]
     },
     "metadata": {},
     "output_type": "display_data"
    }
   ],
   "source": [
    "sns.histplot(cord19['degree'])\n",
    "cord19['degree'].describe()"
   ]
  },
  {
   "cell_type": "code",
   "execution_count": 17,
   "id": "d5f6d43e",
   "metadata": {},
   "outputs": [
    {
     "data": {
      "text/html": [
       "\n",
       "        <div id=\"nwzdNheYBwAJorPVrbCPRY\"></div>\n",
       "        <script>netpixi.render('nwzdNheYBwAJorPVrbCPRY', './cord19_graph.net.gz', 1.7777777777777777, true, false, false);</script>\n",
       "    "
      ],
      "text/plain": [
       "<IPython.core.display.HTML object>"
      ]
     },
     "metadata": {},
     "output_type": "display_data"
    }
   ],
   "source": [
    "gt_save(g, './cord19_graph.net.gz')\n",
    "g = gt_load('./cord19_graph.net.gz')\n",
    "m = gt_draw.sfdp_layout(g)\n",
    "gt_move(g, m)\n",
    "r=netpixi.render('./cord19_graph.net.gz')"
   ]
  },
  {
   "cell_type": "code",
   "execution_count": 18,
   "id": "3031c9a1",
   "metadata": {},
   "outputs": [
    {
     "data": {
      "text/html": [
       "\n",
       "        <div id=\"SLb5cNoRuEt29gtUPHqkC7\"></div>\n",
       "        <script>netpixi.render('SLb5cNoRuEt29gtUPHqkC7', './cord19_graph.net.gz', 1.7777777777777777, true, true, false);</script>\n",
       "    "
      ],
      "text/plain": [
       "<IPython.core.display.HTML object>"
      ]
     },
     "metadata": {},
     "output_type": "display_data"
    }
   ],
   "source": [
    "g = gt_clean(g)\n",
    "m = gt_draw.sfdp_layout(g)\n",
    "gt_move(g, m)\n",
    "gt_save(g, './cord19_graph.net.gz')\n",
    "r = netpixi.render('./cord19_graph.net.gz', infinite=True)"
   ]
  },
  {
   "cell_type": "code",
   "execution_count": null,
   "id": "5229c0b7",
   "metadata": {},
   "outputs": [],
   "source": []
  }
 ],
 "metadata": {
  "kernelspec": {
   "display_name": "Python 3 (ipykernel)",
   "language": "python",
   "name": "python3"
  },
  "language_info": {
   "codemirror_mode": {
    "name": "ipython",
    "version": 3
   },
   "file_extension": ".py",
   "mimetype": "text/x-python",
   "name": "python",
   "nbconvert_exporter": "python",
   "pygments_lexer": "ipython3",
   "version": "3.10.10"
  }
 },
 "nbformat": 4,
 "nbformat_minor": 5
}

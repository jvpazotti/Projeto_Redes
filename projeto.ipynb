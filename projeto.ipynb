{
 "cells": [
  {
   "cell_type": "markdown",
   "id": "43f119a4",
   "metadata": {},
   "source": [
    "### PROJETO 1 REDES SOCIAIS\n",
    "\n",
    "**GRUPO D:** \n",
    "- ESTHER DAGIR\n",
    "- FELIPE LEMOS\n",
    "- JV PAZOTTI\n",
    "\n",
    "**DESCRIÇÃO DATASET CORD19**\n",
    "\n",
    "Artigos acadêmicos relacionados ao COVID-19 e suas variantes que integram o dataset CORD-19. Coleção mais extensa (+134.000 artigos) de pesquisa sobre coronavírus legível por máquina disponível para mineração de dados até o momento, solicitada pelo governo americano em conjunto com entidades de pesquisa sobre o vírus e suas variantes. "
   ]
  },
  {
   "cell_type": "markdown",
   "id": "7d22c698",
   "metadata": {},
   "source": [
    "### Importando as Bibliotecas\n"
   ]
  },
  {
   "cell_type": "code",
   "execution_count": null,
   "id": "6781c949",
   "metadata": {},
   "outputs": [],
   "source": [
    "import pandas as pd\n",
    "import seaborn as sns\n",
    "import netpixi\n",
    "from netpixi.integration.gt import *\n",
    "from regression.integration.gt import *"
   ]
  },
  {
   "cell_type": "markdown",
   "id": "45eafa8d",
   "metadata": {},
   "source": [
    "### Dataset"
   ]
  },
  {
   "cell_type": "code",
   "execution_count": null,
   "id": "5945126c",
   "metadata": {},
   "outputs": [],
   "source": [
    "data = pd.read_csv(\"metadata.csv\")"
   ]
  },
  {
   "cell_type": "code",
   "execution_count": null,
   "id": "2b418b68",
   "metadata": {},
   "outputs": [],
   "source": [
    "unique_journals = data['journal'].unique().tolist()\n",
    "len(unique_journals)"
   ]
  },
  {
   "cell_type": "code",
   "execution_count": null,
   "id": "34309be5",
   "metadata": {},
   "outputs": [],
   "source": [
    "unique_df = data.drop_duplicates(subset=['journal'])"
   ]
  },
  {
   "cell_type": "code",
   "execution_count": null,
   "id": "5a44c715",
   "metadata": {},
   "outputs": [],
   "source": [
    "data=unique_df\n",
    "unique_df.shape"
   ]
  },
  {
   "cell_type": "code",
   "execution_count": null,
   "id": "04eab5d6",
   "metadata": {},
   "outputs": [],
   "source": [
    "data.info()"
   ]
  },
  {
   "cell_type": "code",
   "execution_count": null,
   "id": "23ed52fe",
   "metadata": {},
   "outputs": [],
   "source": []
  },
  {
   "cell_type": "code",
   "execution_count": null,
   "id": "6e0b124c",
   "metadata": {},
   "outputs": [],
   "source": [
    "data=data.copy().drop(columns=['pdf_json_files','pmc_json_files','arxiv_id','pmcid','mag_id','s2_id'])"
   ]
  },
  {
   "cell_type": "code",
   "execution_count": null,
   "id": "cf48021d",
   "metadata": {},
   "outputs": [],
   "source": [
    "data['authors'] = data['authors'].astype(str)"
   ]
  },
  {
   "cell_type": "markdown",
   "id": "e218b216",
   "metadata": {},
   "source": [
    "### Construindo a rede de coautoria"
   ]
  },
  {
   "cell_type": "code",
   "execution_count": null,
   "id": "bccca339",
   "metadata": {},
   "outputs": [],
   "source": [
    "g = Graph(directed=False) # não dirigido"
   ]
  },
  {
   "cell_type": "code",
   "execution_count": null,
   "id": "c5bc138a",
   "metadata": {},
   "outputs": [],
   "source": [
    "collabs = {}\n",
    "\n",
    "# percorre todos os autores no dataset\n",
    "for authors in data['authors']:\n",
    "    # divide os autores em uma lista\n",
    "    authors_list = authors.split('; ')\n",
    "    # percorre todos os pares de autores na lista\n",
    "    for i in range(len(authors_list)):\n",
    "        for j in range(i+1, len(authors_list)):\n",
    "            # ordena os nomes dos autores em ordem alfabética para evitar duplicatas\n",
    "            pair = tuple(sorted([authors_list[i], authors_list[j]]))\n",
    "            # incrementa o contador de co-autorias para esse par de autores\n",
    "            collabs[pair] = collabs.get(pair, 0) + 1    \n",
    "            \n",
    "co_authors = [] #todos os influentes\n",
    "\n",
    "# seleciona os autores que fizeram pelo menos 2 co-autorias (threshold)\n",
    "for pair, count in collabs.items():\n",
    "    if count >= 3: \n",
    "        # adiciona os autores da co-autoria à lista de autores colaboradores influentes\n",
    "        co_authors.extend(pair)\n",
    "        \n",
    "unique_authors = set(co_authors)"
   ]
  },
  {
   "cell_type": "code",
   "execution_count": null,
   "id": "e36651f9",
   "metadata": {},
   "outputs": [],
   "source": [
    "import numpy as np\n",
    "np.mean(list(collabs.values()))"
   ]
  },
  {
   "cell_type": "code",
   "execution_count": null,
   "id": "906e564c",
   "metadata": {},
   "outputs": [],
   "source": [
    "for author in unique_authors:\n",
    "    g.add_vertex(author) \n",
    "    \n",
    "for pair, count in collabs.items():\n",
    "    try:\n",
    "        if count >= 3 and pair[0] in unique_authors and pair[1] in unique_authors:\n",
    "            if pair[0]!= pair[1]:\n",
    "                g.add_edge(pair[0], pair[1])\n",
    "    except ValueError as e:\n",
    "        print(\"Erro ao adicionar a aresta {}: {}\".format(pair, e))\n"
   ]
  },
  {
   "cell_type": "code",
   "execution_count": null,
   "id": "e6c18818",
   "metadata": {},
   "outputs": [],
   "source": [
    "cord19 = gt_data(g)"
   ]
  },
  {
   "cell_type": "code",
   "execution_count": null,
   "id": "f3e63ea8",
   "metadata": {},
   "outputs": [],
   "source": [
    "n = g.num_vertices()\n",
    "m =  g.num_edges()\n",
    "max_edges = n * (n - 1) if g.is_directed() else n * (n - 1) // 2\n",
    "d = m / max_edges\n",
    "\n",
    "print('Número de vértices de g:', n)\n",
    "print('Número de arestas de g:', m)\n",
    "print('Máximo possível de arestas de g:', max_edges)\n",
    "print('Densidade de g:', d)"
   ]
  },
  {
   "cell_type": "code",
   "execution_count": null,
   "id": "69f4e420",
   "metadata": {},
   "outputs": [],
   "source": [
    "for v in g.all_vertices():\n",
    "    if v.total_degree()==1:\n",
    "        try:\n",
    "            g.remove_vertex(v['id'])\n",
    "        except ValueError as e:\n",
    "            print(\"Erro ao retirar o vertice {}: {}\".format(v, e))"
   ]
  },
  {
   "cell_type": "code",
   "execution_count": null,
   "id": "90c287ba",
   "metadata": {},
   "outputs": [],
   "source": [
    "in_degrees = [] \n",
    "for v in g.all_vertices():\n",
    "    in_degrees.append(v.in_degree())\n",
    "\n",
    "out_degrees = []\n",
    "for v in g.all_vertices():\n",
    "    out_degrees.append(v.out_degree())\n",
    "\n",
    "degrees = []\n",
    "for v in g.all_vertices():\n",
    "    degrees.append(v.total_degree())\n",
    "    \n",
    "cord19['in_degree'] = in_degrees\n",
    "cord19['out_degree'] = out_degrees\n",
    "cord19['degree'] = degrees\n",
    "cord19"
   ]
  },
  {
   "cell_type": "code",
   "execution_count": null,
   "id": "63519970",
   "metadata": {},
   "outputs": [],
   "source": [
    "cord19['degree'].value_counts()"
   ]
  },
  {
   "cell_type": "code",
   "execution_count": null,
   "id": "31a52aee",
   "metadata": {},
   "outputs": [],
   "source": [
    "cord19.to_csv('cord19.csv')"
   ]
  },
  {
   "cell_type": "code",
   "execution_count": null,
   "id": "d9225bd1",
   "metadata": {},
   "outputs": [],
   "source": [
    "sns.histplot(cord19['degree'],bins=200)\n",
    "cord19['degree'].describe()"
   ]
  },
  {
   "cell_type": "code",
   "execution_count": null,
   "id": "d5f6d43e",
   "metadata": {},
   "outputs": [],
   "source": [
    "gt_save(g, './cord19_graph.net.gz')\n",
    "g = gt_load('./cord19_graph.net.gz')\n",
    "m = gt_draw.sfdp_layout(g)\n",
    "gt_move(g, m)\n",
    "r=netpixi.render('./cord19_graph.net.gz')"
   ]
  },
  {
   "cell_type": "code",
   "execution_count": null,
   "id": "7fedc0c8",
   "metadata": {},
   "outputs": [],
   "source": [
    "len(co_authors)\n",
    "from graph_tool import spectral\n",
    "import cpnet"
   ]
  },
  {
   "cell_type": "code",
   "execution_count": null,
   "id": "0a415f68",
   "metadata": {},
   "outputs": [],
   "source": []
  },
  {
   "cell_type": "code",
   "execution_count": null,
   "id": "3031c9a1",
   "metadata": {},
   "outputs": [],
   "source": [
    "g = gt_clean(g)\n",
    "m = gt_draw.sfdp_layout(g)\n",
    "gt_move(g, m)\n",
    "gt_save(g, './cord19_graph.net.gz')\n",
    "r = netpixi.render('./cord19_graph.net.gz', infinite=True)"
   ]
  },
  {
   "cell_type": "code",
   "execution_count": null,
   "id": "5229c0b7",
   "metadata": {},
   "outputs": [],
   "source": [
    "r.vertex_default(color=0x09DB8F ,size=5)\n",
    "r.edge_default(color=0xFFFFFF, width=0.5)"
   ]
  },
  {
   "cell_type": "code",
   "execution_count": null,
   "id": "c434afa1",
   "metadata": {},
   "outputs": [],
   "source": [
    "matrix = spectral.adjacency(g)\n",
    "\n",
    "# Além de cpnet.Rombach, há outras\n",
    "# opções de algoritmos contínuos:\n",
    "# cpnet.MINRES\n",
    "# cpnet.Rossa\n",
    "\n",
    "algorithm = cpnet.Rombach()\n",
    "algorithm.detect(matrix)\n",
    "c = algorithm.get_coreness()\n",
    "\n",
    "# Depois do código acima, c é um dicionário\n",
    "# em que as chaves são índices de vértices e\n",
    "# valores são os atribuídos pelo algoritmo.\n",
    "\n",
    "g.add_vp('coreness')\n",
    "for i, coreness in c.items():\n",
    "    v = g.get_vertex_by_index(i)\n",
    "    v['coreness'] = float(coreness)\n",
    "\n",
    "# Vamos usar coreness como referência para\n",
    "# o tamanho dos vértices. Estabelecemos 10\n",
    "# como o menor tamanho possível e 40 como\n",
    "# o maior tamanho possível. Como o coreness\n",
    "# está entre 0 e 1, a conta é bem simples.\n",
    "\n",
    "for v in g.all_vertices():\n",
    "    r.vertex(v['id'], size=(10 + 40 * v['coreness']))\n",
    "\n",
    "# Quando a execução desta célula terminar,\n",
    "# veja como ficou a visualização acima."
   ]
  },
  {
   "cell_type": "code",
   "execution_count": null,
   "id": "62d09e64",
   "metadata": {},
   "outputs": [],
   "source": []
  },
  {
   "cell_type": "code",
   "execution_count": null,
   "id": "48338755",
   "metadata": {},
   "outputs": [],
   "source": []
  }
 ],
 "metadata": {
  "kernelspec": {
   "display_name": "Python 3 (ipykernel)",
   "language": "python",
   "name": "python3"
  },
  "language_info": {
   "codemirror_mode": {
    "name": "ipython",
    "version": 3
   },
   "file_extension": ".py",
   "mimetype": "text/x-python",
   "name": "python",
   "nbconvert_exporter": "python",
   "pygments_lexer": "ipython3",
   "version": "3.10.10"
  }
 },
 "nbformat": 4,
 "nbformat_minor": 5
}

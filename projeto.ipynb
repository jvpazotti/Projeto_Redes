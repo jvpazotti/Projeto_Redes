{
 "cells": [
  {
   "attachments": {},
   "cell_type": "markdown",
   "id": "43f119a4",
   "metadata": {},
   "source": [
    "### PROJETO 1 REDES SOCIAIS\n",
    "\n",
    "**GRUPO D:** \n",
    "- ESTHER DAGIR\n",
    "- FELIPE LEMOS\n",
    "- JV PAZOTTI\n",
    "\n",
    "**DESCRIÇÃO DATASET CORD19**\n",
    "\n",
    "Artigos acadêmicos relacionados ao COVID-19 e suas variantes que integram o dataset CORD-19. Coleção mais extensa (+134.000 artigos) de pesquisa sobre coronavírus legível por máquina disponível para mineração de dados até o momento, solicitada pelo governo americano em conjunto com entidades de pesquisa sobre o vírus e suas variantes. "
   ]
  },
  {
   "attachments": {},
   "cell_type": "markdown",
   "id": "7d22c698",
   "metadata": {},
   "source": [
    "### Importando as Bibliotecas\n"
   ]
  },
  {
   "cell_type": "code",
   "execution_count": null,
   "id": "6781c949",
   "metadata": {},
   "outputs": [],
   "source": [
    "import pandas as pd\n",
    "import seaborn as sns\n",
    "import netpixi\n",
    "from netpixi.integration.gt import *\n",
    "from regression.integration.gt import *\n",
    "from collections import defaultdict\n",
    "from itertools import combinations"
   ]
  },
  {
   "attachments": {},
   "cell_type": "markdown",
   "id": "45eafa8d",
   "metadata": {},
   "source": [
    "### Dataset"
   ]
  },
  {
   "cell_type": "code",
   "execution_count": null,
   "id": "5945126c",
   "metadata": {},
   "outputs": [],
   "source": [
    "data = pd.read_csv(\"metadata.csv\").sample(frac=1/100, random_state=42)"
   ]
  },
  {
   "cell_type": "code",
   "execution_count": null,
   "id": "04eab5d6",
   "metadata": {},
   "outputs": [],
   "source": [
    "data.info()"
   ]
  },
  {
   "cell_type": "code",
   "execution_count": null,
   "id": "6e0b124c",
   "metadata": {},
   "outputs": [],
   "source": [
    "data=data.copy().drop(columns=['pdf_json_files','pmc_json_files','arxiv_id','pmcid','mag_id','s2_id'])"
   ]
  },
  {
   "cell_type": "code",
   "execution_count": null,
   "id": "cf48021d",
   "metadata": {},
   "outputs": [],
   "source": [
    "data['authors'] = data['authors'].astype(str)"
   ]
  },
  {
   "cell_type": "markdown",
   "id": "e218b216",
   "metadata": {},
   "source": [
    "### Construindo a rede de coautoria"
   ]
  },
  {
   "cell_type": "code",
   "execution_count": null,
   "id": "bccca339",
   "metadata": {},
   "outputs": [],
   "source": [
    "g = Graph(directed=False) # não dirigido"
   ]
  },
  {
   "cell_type": "code",
   "execution_count": null,
   "id": "c5bc138a",
   "metadata": {},
   "outputs": [],
   "source": [
    "collabs = {}\n",
    "\n",
    "# percorre todos os autores no dataset\n",
    "for authors in data['authors']:\n",
    "    # divide os autores em uma lista\n",
    "    authors_list = authors.split('; ')\n",
    "    # percorre todos os pares de autores na lista\n",
    "    for i in range(len(authors_list)):\n",
    "        for j in range(i+1, len(authors_list)):\n",
    "            # ordena os nomes dos autores em ordem alfabética para evitar duplicatas\n",
    "            pair = tuple(sorted([authors_list[i], authors_list[j]]))\n",
    "            # incrementa o contador de co-autorias para esse par de autores\n",
    "            collabs[pair] = collabs.get(pair, 0) + 1    \n",
    "            \n",
    "co_authors = [] #todos os influentes\n",
    "\n",
    "# seleciona os autores que fizeram pelo menos 2 co-autorias (threshold)\n",
    "for pair, count in collabs.items():\n",
    "    if count >= 2: \n",
    "        # adiciona os autores da co-autoria à lista de autores colaboradores influentes\n",
    "        co_authors.extend(pair)\n",
    "        \n",
    "unique_authors = set(co_authors)"
   ]
  },
  {
   "cell_type": "code",
   "execution_count": null,
   "id": "906e564c",
   "metadata": {},
   "outputs": [],
   "source": [
    "for author in unique_authors:\n",
    "    g.add_vertex(author) \n",
    "    \n",
    "for pair, count in collabs.items():\n",
    "    if count >= 2 and pair[0] in unique_authors and pair[1] in unique_authors:\n",
    "        g.add_edge(pair[0], pair[1])"
   ]
  },
  {
   "cell_type": "code",
   "execution_count": null,
   "id": "e6c18818",
   "metadata": {},
   "outputs": [],
   "source": [
    "cord19 = gt_data(g)"
   ]
  },
  {
   "cell_type": "code",
   "execution_count": null,
   "id": "f3e63ea8",
   "metadata": {},
   "outputs": [],
   "source": [
    "n = g.num_vertices()\n",
    "m =  g.num_edges()\n",
    "max_edges = n * (n - 1) if g.is_directed() else n * (n - 1) // 2\n",
    "d = m / max_edges\n",
    "\n",
    "print('Número de vértices de g:', n)\n",
    "print('Número de arestas de g:', m)\n",
    "print('Máximo possível de arestas de g:', max_edges)\n",
    "print('Densidade de g:', d)"
   ]
  },
  {
   "cell_type": "code",
   "execution_count": null,
   "id": "90c287ba",
   "metadata": {},
   "outputs": [],
   "source": [
    "in_degrees = [] \n",
    "for v in g.all_vertices():\n",
    "    in_degrees.append(v.in_degree())\n",
    "\n",
    "out_degrees = []\n",
    "for v in g.all_vertices():\n",
    "    out_degrees.append(v.out_degree())\n",
    "\n",
    "degrees = []\n",
    "for v in g.all_vertices():\n",
    "    degrees.append(v.total_degree())\n",
    "    \n",
    "cord19['in_degree'] = in_degrees\n",
    "cord19['out_degree'] = out_degrees\n",
    "cord19['degree'] = degrees\n",
    "cord19"
   ]
  },
  {
   "cell_type": "code",
   "execution_count": null,
   "id": "31a52aee",
   "metadata": {},
   "outputs": [],
   "source": [
    "cord19.to_csv('cord19.csv')"
   ]
  },
  {
   "cell_type": "code",
   "execution_count": null,
   "id": "d9225bd1",
   "metadata": {},
   "outputs": [],
   "source": [
    "sns.histplot(cord19['degree'])\n",
    "cord19['degree'].describe()"
   ]
  },
  {
   "cell_type": "code",
   "execution_count": null,
   "id": "d5f6d43e",
   "metadata": {},
   "outputs": [],
   "source": [
    "gt_save(g, './cord19_graph.net.gz')\n",
    "g = gt_load('./cord19_graph.net.gz')\n",
    "m = gt_draw.sfdp_layout(g)\n",
    "gt_move(g, m)\n",
    "netpixi.render('./cord19_graph.net.gz');"
   ]
  },
  {
   "cell_type": "code",
   "execution_count": null,
   "id": "3031c9a1",
   "metadata": {},
   "outputs": [],
   "source": [
    "g = gt_clean(g)\n",
    "m = gt_draw.sfdp_layout(g)\n",
    "gt_move(g, m)\n",
    "gt_save(g, './cord19_graph.net.gz')\n",
    "r = netpixi.render('./cord19_graph.net.gz', infinite=True);"
   ]
  }
 ],
 "metadata": {
  "kernelspec": {
   "display_name": "Python 3",
   "language": "python",
   "name": "python3"
  },
  "language_info": {
   "codemirror_mode": {
    "name": "ipython",
    "version": 3
   },
   "file_extension": ".py",
   "mimetype": "text/x-python",
   "name": "python",
   "nbconvert_exporter": "python",
   "pygments_lexer": "ipython3",
   "version": "3.8.8"
  }
 },
 "nbformat": 4,
 "nbformat_minor": 5
}

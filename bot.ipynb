{
 "cells": [
  {
   "cell_type": "code",
   "execution_count": null,
   "metadata": {},
   "outputs": [],
   "source": [
    "from selenium import webdriver\n",
    "from selenium.webdriver.chrome.service import Service\n",
    "from webdriver_manager.chrome import ChromeDriverManager\n",
    "from selenium.webdriver.support.ui import WebDriverWait\n",
    "from selenium.webdriver.support import expected_conditions as EC\n",
    "import pandas as pd"
   ]
  },
  {
   "cell_type": "code",
   "execution_count": null,
   "metadata": {},
   "outputs": [],
   "source": [
    "data=pd.read_csv('metadata.csv')"
   ]
  },
  {
   "cell_type": "code",
   "execution_count": null,
   "metadata": {},
   "outputs": [],
   "source": [
    "data=data[[\"doi\",\"authors\",'journal','title','pubmed_id']]\n",
    "data['authors'] = data['authors'].astype(str)"
   ]
  },
  {
   "cell_type": "code",
   "execution_count": null,
   "metadata": {},
   "outputs": [],
   "source": [
    "nome_arquivo = \"autores.txt\"\n",
    "\n",
    "# Abre o arquivo de texto em modo de leitura\n",
    "with open(nome_arquivo, \"r\") as arquivo_txt:\n",
    "    linhas = arquivo_txt.readlines()  # Lê todas as linhas do arquivo\n",
    "\n",
    "# Remove os caracteres de quebra de linha (\\n) de cada linha e cria a lista\n",
    "lista_autores = [linha.strip() for linha in linhas]\n",
    "\n",
    "print(len(lista_autores))"
   ]
  },
  {
   "cell_type": "code",
   "execution_count": null,
   "metadata": {},
   "outputs": [],
   "source": [
    "data"
   ]
  },
  {
   "cell_type": "code",
   "execution_count": null,
   "metadata": {},
   "outputs": [],
   "source": [
    "data['n_cit'] = \"\" * data.shape[0]"
   ]
  },
  {
   "cell_type": "code",
   "execution_count": null,
   "metadata": {},
   "outputs": [],
   "source": [
    "\n",
    "# Instantiate the WebDriver\n",
    "driver = webdriver.Chrome(ChromeDriverManager().install())\n",
    "\n",
    "for i in range(len(data)):\n",
    "    if \"doi\" in data and i in data[\"doi\"]:\n",
    "        doi = data[\"doi\"][i]\n",
    "        try:\n",
    "            driver.get(f\"https://ccforum.biomedcentral.com/articles/{doi}\")\n",
    "            n_cit = driver.find_element(\"xpath\", \"/html/body/div[3]/div[4]/main/article/div[1]/div/ul/li[2]/p\").text.split(\" \")[0]\n",
    "            data['n_cit'][i] = n_cit\n",
    "        except Exception as e:\n",
    "            data['n_cit'][i] = \"error: \" + str(e)\n",
    "    else:\n",
    "        data['n_cit'][i] = \"error: Key not found\"\n",
    "\n",
    "# Close the WebDriver\n",
    "driver.quit()\n",
    "\n",
    "    \n",
    "\n",
    "\n",
    "    "
   ]
  },
  {
   "cell_type": "code",
   "execution_count": null,
   "metadata": {},
   "outputs": [],
   "source": []
  }
 ],
 "metadata": {
  "kernelspec": {
   "display_name": "base",
   "language": "python",
   "name": "python3"
  },
  "language_info": {
   "codemirror_mode": {
    "name": "ipython",
    "version": 3
   },
   "file_extension": ".py",
   "mimetype": "text/x-python",
   "name": "python",
   "nbconvert_exporter": "python",
   "pygments_lexer": "ipython3",
   "version": "3.10.9"
  },
  "orig_nbformat": 4
 },
 "nbformat": 4,
 "nbformat_minor": 2
}

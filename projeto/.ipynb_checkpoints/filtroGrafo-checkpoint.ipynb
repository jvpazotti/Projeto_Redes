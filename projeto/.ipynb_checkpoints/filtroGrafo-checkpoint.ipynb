{
 "cells": [
  {
   "cell_type": "markdown",
   "id": "43f119a4",
   "metadata": {},
   "source": [
    "### PROJETO  REDES SOCIAIS\n",
    "\n",
    "**GRUPO D:** \n",
    "- ESTHER DAGIR\n",
    "- FELIPE LEMOS\n",
    "- JV PAZOTTI\n",
    "\n",
    "**DESCRIÇÃO DATASET CORD19**\n",
    "\n",
    "Artigos acadêmicos relacionados ao COVID-19 e suas variantes que integram o dataset CORD-19. Coleção mais extensa (+134.000 artigos) de pesquisa sobre coronavírus legível por máquina disponível para mineração de dados até o momento, solicitada pelo governo americano em conjunto com entidades de pesquisa sobre o vírus e suas variantes. "
   ]
  },
  {
   "cell_type": "markdown",
   "id": "7d22c698",
   "metadata": {},
   "source": [
    "### Importando as Bibliotecas\n"
   ]
  },
  {
   "cell_type": "code",
   "execution_count": 2,
   "id": "6781c949",
   "metadata": {},
   "outputs": [
    {
     "data": {
      "text/html": [
       "\n",
       "    <script src=\"/files/netpixi.min.js\"></script>\n"
      ],
      "text/plain": [
       "<IPython.core.display.HTML object>"
      ]
     },
     "metadata": {},
     "output_type": "display_data"
    },
    {
     "name": "stderr",
     "output_type": "stream",
     "text": [
      "<frozen importlib._bootstrap>:914: ImportWarning: VendorImporter.find_spec() not found; falling back to find_module()\n"
     ]
    }
   ],
   "source": [
    "import pandas as pd\n",
    "import seaborn as sns\n",
    "import netpixi\n",
    "from netpixi.integration.gt import *\n",
    "from regression.integration.gt import *"
   ]
  },
  {
   "cell_type": "markdown",
   "id": "45eafa8d",
   "metadata": {},
   "source": [
    "### Dataset"
   ]
  },
  {
   "cell_type": "code",
   "execution_count": null,
   "id": "5945126c",
   "metadata": {},
   "outputs": [],
   "source": [
    "raw_data = pd.read_csv(\"data/metadata.csv\")"
   ]
  },
  {
   "cell_type": "code",
   "execution_count": null,
   "id": "988e6c2e",
   "metadata": {},
   "outputs": [],
   "source": [
    "data = raw_data "
   ]
  },
  {
   "cell_type": "code",
   "execution_count": null,
   "id": "04eab5d6",
   "metadata": {},
   "outputs": [],
   "source": [
    "data.info()"
   ]
  },
  {
   "cell_type": "code",
   "execution_count": null,
   "id": "6e0b124c",
   "metadata": {},
   "outputs": [],
   "source": [
    "df = data.copy().drop(columns=['pdf_json_files','pmc_json_files','arxiv_id','pmcid',\n",
    "                               'mag_id','s2_id','sha','cord_uid','abstract','url','mag_id','publish_time',\n",
    "                                  'source_x','license','who_covidence_id','pubmed_id'])\n"
   ]
  },
  {
   "cell_type": "code",
   "execution_count": null,
   "id": "69b8bd00",
   "metadata": {},
   "outputs": [],
   "source": [
    "df = df.dropna()\n",
    "df"
   ]
  },
  {
   "cell_type": "code",
   "execution_count": null,
   "id": "cf48021d",
   "metadata": {},
   "outputs": [],
   "source": [
    "df['authors'] = df['authors'].astype(str)"
   ]
  },
  {
   "cell_type": "code",
   "execution_count": null,
   "id": "e34719bf",
   "metadata": {},
   "outputs": [],
   "source": [
    "df.info()"
   ]
  },
  {
   "cell_type": "markdown",
   "id": "e218b216",
   "metadata": {},
   "source": [
    "### Construindo a rede de coautoria"
   ]
  },
  {
   "cell_type": "code",
   "execution_count": null,
   "id": "56e28366",
   "metadata": {},
   "outputs": [],
   "source": [
    "len(df['authors'])"
   ]
  },
  {
   "cell_type": "code",
   "execution_count": null,
   "id": "9d25425e",
   "metadata": {},
   "outputs": [],
   "source": [
    "coautorias = [] \n",
    "\n",
    "for authors in df['authors']:\n",
    "    authors_list = authors.split('; ')\n",
    "    for i in range(len(authors_list)):\n",
    "        for j in range(i+1, len(authors_list)):\n",
    "            pair = tuple(sorted([authors_list[i], authors_list[j]]))\n",
    "            coautorias.append(pair)          \n",
    "             \n",
    "\n",
    "%time"
   ]
  },
  {
   "cell_type": "code",
   "execution_count": null,
   "id": "69f140e8",
   "metadata": {},
   "outputs": [],
   "source": [
    "coautorias_unicas = []\n",
    "coautorias_set = set()\n",
    "\n",
    "for coautoria in coautorias:\n",
    "    coautoria_ordenada = tuple(sorted(coautoria))\n",
    "    if coautoria not in coautorias_set:\n",
    "        coautorias_unicas.append(coautoria)\n",
    "        coautorias_set.add(coautoria)"
   ]
  },
  {
   "cell_type": "code",
   "execution_count": null,
   "id": "2a0d32cd",
   "metadata": {},
   "outputs": [],
   "source": [
    "coautorias_count = {}\n",
    "\n",
    "for coautoria in coautorias_unicas:\n",
    "    autor1, autor2 = coautoria\n",
    "    \n",
    "    coautorias_count[autor1] = coautorias_count.get(autor1, 0) + 1\n",
    "    coautorias_count[autor2] = coautorias_count.get(autor2, 0) + 1\n"
   ]
  },
  {
   "cell_type": "code",
   "execution_count": null,
   "id": "e9ac55bd",
   "metadata": {},
   "outputs": [],
   "source": [
    "coautorias_filtradas = []\n",
    "\n",
    "for coautoria in coautorias_unicas:\n",
    "    autor1, autor2 = coautoria\n",
    "    \n",
    "    if coautorias_count.get(autor1, 0) >= 3 and coautorias_count.get(autor1, 0) < 50 and coautorias_count.get(autor2, 0) >= 3 and coautorias_count.get(autor2, 0) <50:\n",
    "        \n",
    "        coautorias_filtradas.append(coautoria)"
   ]
  },
  {
   "cell_type": "code",
   "execution_count": null,
   "id": "b3319d2e",
   "metadata": {},
   "outputs": [],
   "source": [
    "inf_coautorias_count = {} #contagem entre autores influentes\n",
    "\n",
    "for coautoria in coautorias_filtradas:\n",
    "    autor1, autor2 = coautoria\n",
    "    \n",
    "    inf_coautorias_count[autor1] = inf_coautorias_count.get(autor1, 0) + 1\n",
    "    inf_coautorias_count[autor2] = inf_coautorias_count.get(autor2, 0) + 1\n",
    "    "
   ]
  },
  {
   "cell_type": "code",
   "execution_count": null,
   "id": "c5bc138a",
   "metadata": {},
   "outputs": [],
   "source": [
    "inf_coautorias_filtradas = []\n",
    "\n",
    "for coautoria in coautorias_filtradas:\n",
    "    autor1, autor2 = coautoria\n",
    "    \n",
    "    if inf_coautorias_count.get(autor1, 0) > 6 and inf_coautorias_count.get(autor2, 0) > 6:\n",
    "        \n",
    "        inf_coautorias_filtradas.append(coautoria)\n"
   ]
  },
  {
   "cell_type": "code",
   "execution_count": 3,
   "id": "2fbdb241",
   "metadata": {},
   "outputs": [
    {
     "ename": "NameError",
     "evalue": "name 'inf_coautorias_count' is not defined",
     "output_type": "error",
     "traceback": [
      "\u001b[0;31m---------------------------------------------------------------------------\u001b[0m",
      "\u001b[0;31mNameError\u001b[0m                                 Traceback (most recent call last)",
      "Cell \u001b[0;32mIn[3], line 4\u001b[0m\n\u001b[1;32m      1\u001b[0m \u001b[38;5;28;01mimport\u001b[39;00m \u001b[38;5;21;01mnumpy\u001b[39;00m \u001b[38;5;28;01mas\u001b[39;00m \u001b[38;5;21;01mnp\u001b[39;00m\n\u001b[0;32m----> 4\u001b[0m quantidades \u001b[38;5;241m=\u001b[39m \u001b[38;5;28mlist\u001b[39m(\u001b[43minf_coautorias_count\u001b[49m\u001b[38;5;241m.\u001b[39mvalues())\n\u001b[1;32m      6\u001b[0m media \u001b[38;5;241m=\u001b[39m np\u001b[38;5;241m.\u001b[39mmean(quantidades)\n\u001b[1;32m      7\u001b[0m mediana \u001b[38;5;241m=\u001b[39m np\u001b[38;5;241m.\u001b[39mmedian(quantidades)\n",
      "\u001b[0;31mNameError\u001b[0m: name 'inf_coautorias_count' is not defined"
     ]
    }
   ],
   "source": [
    "import numpy as np\n",
    "\n",
    "\n",
    "quantidades = list(inf_coautorias_count.values())\n",
    "\n",
    "media = np.mean(quantidades)\n",
    "mediana = np.median(quantidades)\n",
    "\n",
    "print(\"Média: \", media)\n",
    "print(\"Mediana: \", mediana)\n",
    "\n"
   ]
  },
  {
   "cell_type": "code",
   "execution_count": 4,
   "id": "83e12638",
   "metadata": {},
   "outputs": [],
   "source": [
    "g=gt_load('data/cord19_graph.net.gz')\n",
    "# g = Graph(directed=False) # não dirigido"
   ]
  },
  {
   "cell_type": "code",
   "execution_count": 5,
   "id": "e6c18818",
   "metadata": {},
   "outputs": [],
   "source": [
    "cord19 = gt_data(g)"
   ]
  },
  {
   "cell_type": "code",
   "execution_count": 6,
   "id": "f3e63ea8",
   "metadata": {},
   "outputs": [
    {
     "name": "stdout",
     "output_type": "stream",
     "text": [
      "Número de vértices de g: 9704\n",
      "Número de arestas de g: 66805\n",
      "Máximo possível de arestas de g: 47078956\n",
      "Densidade de g: 0.001418999180865438\n"
     ]
    }
   ],
   "source": [
    "n = g.num_vertices()\n",
    "m =  g.num_edges()\n",
    "max_edges = n * (n - 1) if g.is_directed() else n * (n - 1) // 2\n",
    "d = m / max_edges\n",
    "\n",
    "print('Número de vértices de g:', n)\n",
    "print('Número de arestas de g:', m)\n",
    "print('Máximo possível de arestas de g:', max_edges)\n",
    "print('Densidade de g:', d)"
   ]
  },
  {
   "cell_type": "code",
   "execution_count": 7,
   "id": "90c287ba",
   "metadata": {},
   "outputs": [
    {
     "data": {
      "text/html": [
       "<div>\n",
       "<style scoped>\n",
       "    .dataframe tbody tr th:only-of-type {\n",
       "        vertical-align: middle;\n",
       "    }\n",
       "\n",
       "    .dataframe tbody tr th {\n",
       "        vertical-align: top;\n",
       "    }\n",
       "\n",
       "    .dataframe thead th {\n",
       "        text-align: right;\n",
       "    }\n",
       "</style>\n",
       "<table border=\"1\" class=\"dataframe\">\n",
       "  <thead>\n",
       "    <tr style=\"text-align: right;\">\n",
       "      <th></th>\n",
       "      <th>coreness</th>\n",
       "      <th>degree</th>\n",
       "    </tr>\n",
       "    <tr>\n",
       "      <th>id</th>\n",
       "      <th></th>\n",
       "      <th></th>\n",
       "    </tr>\n",
       "  </thead>\n",
       "  <tbody>\n",
       "    <tr>\n",
       "      <th>0</th>\n",
       "      <td>0.162791</td>\n",
       "      <td>10</td>\n",
       "    </tr>\n",
       "    <tr>\n",
       "      <th>1</th>\n",
       "      <td>0.078095</td>\n",
       "      <td>8</td>\n",
       "    </tr>\n",
       "    <tr>\n",
       "      <th>2</th>\n",
       "      <td>0.176607</td>\n",
       "      <td>12</td>\n",
       "    </tr>\n",
       "    <tr>\n",
       "      <th>3</th>\n",
       "      <td>0.046953</td>\n",
       "      <td>7</td>\n",
       "    </tr>\n",
       "    <tr>\n",
       "      <th>4</th>\n",
       "      <td>0.189650</td>\n",
       "      <td>14</td>\n",
       "    </tr>\n",
       "    <tr>\n",
       "      <th>...</th>\n",
       "      <td>...</td>\n",
       "      <td>...</td>\n",
       "    </tr>\n",
       "    <tr>\n",
       "      <th>9699</th>\n",
       "      <td>0.221435</td>\n",
       "      <td>18</td>\n",
       "    </tr>\n",
       "    <tr>\n",
       "      <th>9700</th>\n",
       "      <td>0.079222</td>\n",
       "      <td>8</td>\n",
       "    </tr>\n",
       "    <tr>\n",
       "      <th>9701</th>\n",
       "      <td>0.949768</td>\n",
       "      <td>34</td>\n",
       "    </tr>\n",
       "    <tr>\n",
       "      <th>9702</th>\n",
       "      <td>0.178282</td>\n",
       "      <td>13</td>\n",
       "    </tr>\n",
       "    <tr>\n",
       "      <th>9703</th>\n",
       "      <td>0.127625</td>\n",
       "      <td>11</td>\n",
       "    </tr>\n",
       "  </tbody>\n",
       "</table>\n",
       "<p>9704 rows × 2 columns</p>\n",
       "</div>"
      ],
      "text/plain": [
       "      coreness  degree\n",
       "id                    \n",
       "0     0.162791      10\n",
       "1     0.078095       8\n",
       "2     0.176607      12\n",
       "3     0.046953       7\n",
       "4     0.189650      14\n",
       "...        ...     ...\n",
       "9699  0.221435      18\n",
       "9700  0.079222       8\n",
       "9701  0.949768      34\n",
       "9702  0.178282      13\n",
       "9703  0.127625      11\n",
       "\n",
       "[9704 rows x 2 columns]"
      ]
     },
     "execution_count": 7,
     "metadata": {},
     "output_type": "execute_result"
    }
   ],
   "source": [
    "degrees = []\n",
    "for v in g.all_vertices():\n",
    "    degrees.append(v.total_degree())\n",
    "\n",
    "cord19['degree'] = degrees\n",
    "cord19"
   ]
  },
  {
   "cell_type": "code",
   "execution_count": 8,
   "id": "63519970",
   "metadata": {},
   "outputs": [
    {
     "data": {
      "text/plain": [
       "8     1122\n",
       "7     1099\n",
       "9      930\n",
       "10     795\n",
       "12     604\n",
       "11     576\n",
       "13     442\n",
       "15     413\n",
       "14     382\n",
       "18     377\n",
       "16     296\n",
       "17     284\n",
       "19     228\n",
       "20     183\n",
       "29     132\n",
       "33     128\n",
       "2      122\n",
       "25     120\n",
       "27     120\n",
       "22     119\n",
       "23     116\n",
       "21     112\n",
       "28     108\n",
       "30     104\n",
       "3      103\n",
       "1       93\n",
       "34      75\n",
       "26      63\n",
       "32      63\n",
       "4       61\n",
       "39      47\n",
       "44      47\n",
       "35      45\n",
       "5       42\n",
       "24      26\n",
       "31      26\n",
       "6       25\n",
       "37      18\n",
       "40      14\n",
       "36      14\n",
       "38       9\n",
       "43       7\n",
       "41       5\n",
       "45       4\n",
       "42       4\n",
       "46       1\n",
       "Name: degree, dtype: int64"
      ]
     },
     "execution_count": 8,
     "metadata": {},
     "output_type": "execute_result"
    }
   ],
   "source": [
    "cord19['degree'].value_counts()"
   ]
  },
  {
   "cell_type": "code",
   "execution_count": 10,
   "id": "31a52aee",
   "metadata": {},
   "outputs": [],
   "source": [
    "cord19.to_csv('data/cord19.csv')"
   ]
  },
  {
   "cell_type": "code",
   "execution_count": 11,
   "id": "d9225bd1",
   "metadata": {},
   "outputs": [
    {
     "data": {
      "text/plain": [
       "count    9704.000000\n",
       "mean       13.768549\n",
       "std         7.913647\n",
       "min         1.000000\n",
       "25%         8.000000\n",
       "50%        11.000000\n",
       "75%        17.000000\n",
       "max        46.000000\n",
       "Name: degree, dtype: float64"
      ]
     },
     "execution_count": 11,
     "metadata": {},
     "output_type": "execute_result"
    },
    {
     "data": {
      "image/png": "[encoded data removed]",
      "text/plain": [
       "<Figure size 640x480 with 1 Axes>"
      ]
     },
     "metadata": {},
     "output_type": "display_data"
    }
   ],
   "source": [
    "sns.histplot(cord19['degree'],bins=200)\n",
    "cord19['degree'].describe()"
   ]
  },
  {
   "cell_type": "code",
   "execution_count": 12,
   "id": "e372e4d1",
   "metadata": {},
   "outputs": [],
   "source": [
    "gt_save(g, 'data/cord19_graph.net.gz')"
   ]
  },
  {
   "cell_type": "code",
   "execution_count": 13,
   "id": "3031c9a1",
   "metadata": {},
   "outputs": [
    {
     "data": {
      "text/html": [
       "\n",
       "        <div id=\"PqZC9LRZv9vtNRdvayBytS\"></div>\n",
       "        <script>netpixi.render('PqZC9LRZv9vtNRdvayBytS', 'data/cord19_graph.net.gz', 1.7777777777777777, true, true, false);</script>\n",
       "    "
      ],
      "text/plain": [
       "<IPython.core.display.HTML object>"
      ]
     },
     "metadata": {},
     "output_type": "display_data"
    }
   ],
   "source": [
    "g = gt_clean(g)\n",
    "m = gt_draw.sfdp_layout(g)\n",
    "gt_move(g, m)\n",
    "gt_save(g, 'data/cord19_graph.net.gz')\n",
    "r = netpixi.render('data/cord19_graph.net.gz', infinite=True)"
   ]
  }
 ],
 "metadata": {
  "kernelspec": {
   "display_name": "Python 3 (ipykernel)",
   "language": "python",
   "name": "python3"
  },
  "language_info": {
   "codemirror_mode": {
    "name": "ipython",
    "version": 3
   },
   "file_extension": ".py",
   "mimetype": "text/x-python",
   "name": "python",
   "nbconvert_exporter": "python",
   "pygments_lexer": "ipython3",
   "version": "3.10.10"
  }
 },
 "nbformat": 4,
 "nbformat_minor": 5
}
